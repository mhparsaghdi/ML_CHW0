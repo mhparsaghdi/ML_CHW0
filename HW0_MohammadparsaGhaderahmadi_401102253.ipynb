{
  "cells": [
    {
      "cell_type": "markdown",
      "metadata": {
        "id": "Ix2c76EjQ6mJ"
      },
      "source": [
        "<h1 align=\"center\"> </h1>\n",
        "<h1 align=\"center\">Introduction to Machine Learning</h1>\n",
        "<h3 align=\"center\">Dr. Emad Fatemizadeh</h3>\n",
        "<h5 align=\"center\">Sharif University of Technology<br/>Department of Electrical Engineering</h5>\n",
        "\n",
        "----\n",
        "\n",
        "Welcome to your first assignment in Machine Learning! This exercise will give you a practical introduction to Python programming.\n",
        "\n",
        "> **Instructions:**\n",
        "> * Use Python 3 for all tasks.\n",
        "> * Name your submission file as ***HW#_Name_StudentID***.\n",
        "> * Ensure that the work you submit is your own; sharing answers is strictly prohibited.\n",
        "> * If you have any questions or need clarification, please contact the course assistant on Telegram at '@radinkhayyam'.\n",
        "\n",
        "Looking forward to seeing your solutions and wish you the best of luck!\n"
      ]
    },
    {
      "cell_type": "code",
      "execution_count": 1,
      "metadata": {
        "colab": {
          "base_uri": "https://localhost:8080/"
        },
        "id": "RGJq3bYsQ0bE",
        "outputId": "fc61f6a5-acf6-40f2-944f-3f3f1aec15ac"
      },
      "outputs": [
        {
          "name": "stdout",
          "output_type": "stream",
          "text": [
            "StudentName:Mohammadparsa Ghaderahamdi , StudentID:401102253\n"
          ]
        }
      ],
      "source": [
        "### Please Fill the following entries\n",
        "StudentName = \"Mohammadparsa Ghaderahamdi\"\n",
        "StudentID   = \"401102253\"\n",
        "\n",
        "print (f'StudentName:{StudentName} , StudentID:{StudentID}')"
      ]
    },
    {
      "cell_type": "markdown",
      "metadata": {
        "id": "FjKOOXlfTPap"
      },
      "source": [
        "## **Question 1: Lists**\n",
        "\n",
        "\n",
        "1. Define a list named `fruits` that contains the following items: `\"apple\"`, `\"banana\"`, `\"cherry\"`, `\"date\"`, `\"elderberry\"`.\n",
        "\n",
        "\n",
        "\n"
      ]
    },
    {
      "cell_type": "code",
      "execution_count": 2,
      "metadata": {
        "id": "NaLVtPToCe9Z"
      },
      "outputs": [],
      "source": [
        "#Todo\n",
        "fruits = [\"apple\", \"banana\", \"cherry\", \"date\", \"elderberry\"]"
      ]
    },
    {
      "cell_type": "markdown",
      "metadata": {
        "id": "kTV47AtkCfaF"
      },
      "source": [
        "2. Print the `fruits` list to the console."
      ]
    },
    {
      "cell_type": "code",
      "execution_count": 3,
      "metadata": {
        "id": "GfeN3aujCiqZ"
      },
      "outputs": [
        {
          "name": "stdout",
          "output_type": "stream",
          "text": [
            "['apple', 'banana', 'cherry', 'date', 'elderberry']\n"
          ]
        }
      ],
      "source": [
        "#Todo\n",
        "print(fruits)"
      ]
    },
    {
      "cell_type": "markdown",
      "metadata": {
        "id": "1DT-IK4kCi-b"
      },
      "source": [
        "3. Print the first and last elements of the `fruits` list.\n",
        "\n"
      ]
    },
    {
      "cell_type": "code",
      "execution_count": 4,
      "metadata": {
        "id": "DV96ClNaCkiM"
      },
      "outputs": [
        {
          "name": "stdout",
          "output_type": "stream",
          "text": [
            "apple\n",
            "elderberry\n"
          ]
        }
      ],
      "source": [
        "#Todo\n",
        "print(fruits[0])\n",
        "print(fruits[-1])"
      ]
    },
    {
      "cell_type": "markdown",
      "metadata": {
        "id": "4V9dcuF3Cky1"
      },
      "source": [
        "4. Add the fruit `\"fig\"` to the end of the `fruits` list.\n",
        "\n"
      ]
    },
    {
      "cell_type": "code",
      "execution_count": 5,
      "metadata": {
        "id": "p7IL9EsHCmcF"
      },
      "outputs": [],
      "source": [
        "#Todo\n",
        "fruits.append('fig')"
      ]
    },
    {
      "cell_type": "markdown",
      "metadata": {
        "id": "LgXo0y4lCms_"
      },
      "source": [
        "5. Remove `\"banana\"` from the `fruits` list."
      ]
    },
    {
      "cell_type": "code",
      "execution_count": 6,
      "metadata": {
        "id": "608Fg8KdCq7o"
      },
      "outputs": [],
      "source": [
        "#Todo\n",
        "fruits.remove('banana')"
      ]
    },
    {
      "cell_type": "markdown",
      "metadata": {
        "id": "dMaLH1dpCrOX"
      },
      "source": [
        "6. Update the third item in the `fruits` list to `\"coconut\"`.\n",
        "\n"
      ]
    },
    {
      "cell_type": "code",
      "execution_count": 7,
      "metadata": {
        "id": "4ezemMRKCtSn"
      },
      "outputs": [],
      "source": [
        "#Todo\n",
        "fruits[2] = 'coconut'"
      ]
    },
    {
      "cell_type": "markdown",
      "metadata": {
        "id": "3Vmlm3X2Ct1l"
      },
      "source": [
        "7. Print the number of items in the `fruits` list."
      ]
    },
    {
      "cell_type": "code",
      "execution_count": 8,
      "metadata": {
        "id": "u7RgqJODG8qs"
      },
      "outputs": [
        {
          "name": "stdout",
          "output_type": "stream",
          "text": [
            "5\n"
          ]
        }
      ],
      "source": [
        "#Todo\n",
        "print(len(fruits))"
      ]
    },
    {
      "cell_type": "markdown",
      "metadata": {
        "id": "X9krDGvBG887"
      },
      "source": [
        "8. Use a `for` loop to print each fruit in the `fruits` list.\n",
        "\n"
      ]
    },
    {
      "cell_type": "code",
      "execution_count": 9,
      "metadata": {
        "id": "Fkqfpxb1G_uj"
      },
      "outputs": [
        {
          "name": "stdout",
          "output_type": "stream",
          "text": [
            "apple\n",
            "cherry\n",
            "coconut\n",
            "elderberry\n",
            "fig\n"
          ]
        }
      ],
      "source": [
        "#Todo\n",
        "for fruit in fruits:\n",
        "    print(fruit)"
      ]
    },
    {
      "cell_type": "markdown",
      "metadata": {
        "id": "kPuH70DyHCBd"
      },
      "source": [
        "9. Print a sublist containing the second through fourth items of the `fruits` list (inclusive).\n",
        "\n"
      ]
    },
    {
      "cell_type": "code",
      "execution_count": 11,
      "metadata": {
        "id": "2I0ryqkDAkIb"
      },
      "outputs": [
        {
          "name": "stdout",
          "output_type": "stream",
          "text": [
            "['cherry', 'coconut', 'elderberry']\n"
          ]
        }
      ],
      "source": [
        "# Todo\n",
        "print(fruits[1:4])"
      ]
    },
    {
      "cell_type": "markdown",
      "metadata": {
        "id": "pG5vtAYqHEi9"
      },
      "source": [
        "10. Check if the fruit `\"apple\"` is in the list and print `True` or `False` accordingly."
      ]
    },
    {
      "cell_type": "code",
      "execution_count": 13,
      "metadata": {
        "id": "NpefM8FFHDwb"
      },
      "outputs": [
        {
          "name": "stdout",
          "output_type": "stream",
          "text": [
            "True\n"
          ]
        }
      ],
      "source": [
        "#Todo\n",
        "if 'apple' in fruits:\n",
        "    print('True')\n",
        "else:\n",
        "    print('False')"
      ]
    },
    {
      "cell_type": "markdown",
      "metadata": {
        "id": "kr8xB5sUAtaO"
      },
      "source": [
        "## **Question 2: Dictionaries**\n",
        "\n"
      ]
    },
    {
      "cell_type": "markdown",
      "metadata": {
        "id": "KUYG_1tTWGsU"
      },
      "source": [
        "You are given a dictionary `employees` where each key is an employee's name and the value is another dictionary with the employee's `department` and `salary`. Complete the following tasks by filling in the code.\n",
        "\n",
        "**Given Data:**"
      ]
    },
    {
      "cell_type": "code",
      "execution_count": 14,
      "metadata": {
        "id": "0A-2I7ZTV9fB"
      },
      "outputs": [],
      "source": [
        "employees = {\n",
        "    \"Alice\": {\"department\": \"Engineering\", \"salary\": 90000},\n",
        "    \"Bob\": {\"department\": \"Marketing\", \"salary\": 70000},\n",
        "    \"Charlie\": {\"department\": \"Engineering\", \"salary\": 95000},\n",
        "    \"David\": {\"department\": \"HR\", \"salary\": 60000},\n",
        "    \"Eve\": {\"department\": \"Marketing\", \"salary\": 72000},\n",
        "}"
      ]
    },
    {
      "cell_type": "markdown",
      "metadata": {
        "id": "efCRU6-TWPSp"
      },
      "source": [
        "1. Write code to create a list of employee names who work in the `\"Engineering\"` department."
      ]
    },
    {
      "cell_type": "code",
      "execution_count": 17,
      "metadata": {
        "id": "C1zp4kP9WbB9"
      },
      "outputs": [
        {
          "data": {
            "text/plain": [
              "['Alice', 'Charlie']"
            ]
          },
          "execution_count": 17,
          "metadata": {},
          "output_type": "execute_result"
        }
      ],
      "source": [
        "#Todo\n",
        "names = []\n",
        "for name, dic in employees.items():\n",
        "    if dic['department'] == 'Engineering':\n",
        "        names.append(name)\n",
        "names"
      ]
    },
    {
      "cell_type": "markdown",
      "metadata": {
        "id": "d8rSXTqzWjIN"
      },
      "source": [
        "2. Write code to calculate the average salary of employees in the `\"Marketing\"` department. If there are no employees in that department, set `average_marketing_salary` to `None`."
      ]
    },
    {
      "cell_type": "code",
      "execution_count": 18,
      "metadata": {
        "id": "StURhMopWnxb"
      },
      "outputs": [
        {
          "data": {
            "text/plain": [
              "71000.0"
            ]
          },
          "execution_count": 18,
          "metadata": {},
          "output_type": "execute_result"
        }
      ],
      "source": [
        "#Todo\n",
        "salaries = []\n",
        "for name, dic in employees.items():\n",
        "    if dic['department'] == 'Marketing':\n",
        "        salaries.append(dic['salary'])\n",
        "if len(salaries) == 0:\n",
        "    average_marketing_salary = None\n",
        "else:\n",
        "    average_marketing_salary = sum(salaries) / len(salaries)\n",
        "average_marketing_salary"
      ]
    },
    {
      "cell_type": "markdown",
      "metadata": {
        "id": "mDsUomxjW0k5"
      },
      "source": [
        "3. Write code to find the names of the employees with the highest and lowest salaries. If there are no employees, set `highest_salary_employee` and `lowest_salary_employee` to `None`."
      ]
    },
    {
      "cell_type": "code",
      "execution_count": 21,
      "metadata": {
        "id": "cfK_BA_xW1R_"
      },
      "outputs": [
        {
          "name": "stdout",
          "output_type": "stream",
          "text": [
            "95000\n",
            "60000\n"
          ]
        }
      ],
      "source": [
        "#Todo\n",
        "highest_salary_employee = None\n",
        "lowest_salary_employee = None\n",
        "max, min = -1, 1e24\n",
        "for name, dic in employees.items():\n",
        "    salary = dic['salary']\n",
        "    if salary > max:\n",
        "        max = salary\n",
        "    if salary < min:\n",
        "        min = salary\n",
        "if len(employees) == 0: \n",
        "    highest_salary_employee = None\n",
        "    lowest_salary_employee = None\n",
        "else:\n",
        "    highest_salary_employee = max\n",
        "    lowest_salary_employee = min\n",
        "print(highest_salary_employee)\n",
        "print(lowest_salary_employee)"
      ]
    },
    {
      "cell_type": "markdown",
      "metadata": {
        "id": "8NBI8WZmW3-_"
      },
      "source": [
        "4. Write code to generate a report showing the total salary and average salary for each department. Store this in a dictionary `department_report` where the keys are department names and the values are dictionaries with `\"total_salary\"` and `\"average_salary\"`."
      ]
    },
    {
      "cell_type": "code",
      "execution_count": 25,
      "metadata": {
        "id": "4knHDRDNXCpx"
      },
      "outputs": [
        {
          "data": {
            "text/plain": [
              "{'Engineering': {'total_salary': 185000, 'average_salary': 92500.0},\n",
              " 'Marketing': {'total_salary': 142000, 'average_salary': 71000.0},\n",
              " 'HR': {'total_salary': 60000, 'average_salary': 60000.0}}"
            ]
          },
          "execution_count": 25,
          "metadata": {},
          "output_type": "execute_result"
        }
      ],
      "source": [
        "#Todo\n",
        "department_report = {}\n",
        "for name, dic in employees.items():\n",
        "    dep = dic['department']\n",
        "    salary = dic['salary']\n",
        "    if dep not in department_report:\n",
        "        department_report[dep] = {\n",
        "            \"total_salary\": 0,\n",
        "            \"cnt\": 0\n",
        "        }\n",
        "    department_report[dep][\"total_salary\"] += salary\n",
        "    department_report[dep][\"cnt\"] += 1\n",
        "for dep, dic in department_report.items():\n",
        "    dic[\"average_salary\"] = dic[\"total_salary\"] / dic[\"cnt\"]\n",
        "    del dic[\"cnt\"]\n",
        "department_report\n"
      ]
    },
    {
      "cell_type": "markdown",
      "metadata": {
        "id": "q04x3mUdXPLG"
      },
      "source": [
        "## **Question 3: Functions**"
      ]
    },
    {
      "cell_type": "markdown",
      "metadata": {
        "id": "u2lPOrAGcqjS"
      },
      "source": [
        "Implement an algorithm to find the length of the longest increasing subsequence (LIS) in a list of integers. The LIS is a subsequence of a list where each element is strictly greater than the preceding one.\n",
        "\n",
        "\n",
        "Write a function named `length_of_lis` that takes a list of integers `nums` as input and returns the length of the longest increasing subsequence."
      ]
    },
    {
      "cell_type": "markdown",
      "metadata": {
        "id": "4RueWFzMdKTg"
      },
      "source": [
        "Some examples:\n",
        "   - `nums = [10, 9, 2, 5, 3, 7, 101, 18]` (Expected output: `4`, LIS is `[2, 3, 7, 101]`)\n",
        "   - `nums = [0, 1, 0, 3, 2, 3]` (Expected output: `4`, LIS is `[0, 1, 3]`)\n",
        "   - `nums = [7, 7, 7, 7, 7, 7, 7]` (Expected output: `1`, LIS is `[7]`)"
      ]
    },
    {
      "cell_type": "code",
      "execution_count": 28,
      "metadata": {
        "id": "RiKwJDGhczIQ"
      },
      "outputs": [],
      "source": [
        "def length_of_lis(nums):\n",
        "  output = 0\n",
        "  max_seq_len = 1\n",
        "  a = nums[0]\n",
        "  tmp = 1\n",
        "  for i in range(1,len(nums)):\n",
        "    if nums[i] > a:\n",
        "      tmp += 1\n",
        "    else:\n",
        "      tmp = 1\n",
        "    if tmp > max_seq_len:\n",
        "      max_seq_len = tmp\n",
        "    a = nums[i]\n",
        "  return max_seq_len"
      ]
    },
    {
      "cell_type": "code",
      "execution_count": 29,
      "metadata": {
        "id": "UGNRWyimj4e8"
      },
      "outputs": [
        {
          "name": "stdout",
          "output_type": "stream",
          "text": [
            "6\n"
          ]
        }
      ],
      "source": [
        "nums = [10, 13, 14, 15, 23, 21, 24, 24, 25, 27, 32, 35, 42]\n",
        "print(length_of_lis(nums))"
      ]
    },
    {
      "cell_type": "markdown",
      "metadata": {
        "id": "dtlwIeVXeG_b"
      },
      "source": [
        "## **Question 4: Touples**"
      ]
    },
    {
      "cell_type": "markdown",
      "metadata": {
        "id": "Fr4lKLvgeuB-"
      },
      "source": [
        "1. **Tuple Sorting**\n",
        "\n",
        "Write a function named `sort_tuples_by_second_element` that takes a list of tuples as input. Each tuple contains two elements: a string and an integer. The function should sort the list of tuples based on the integer values (second element of the tuple) in ascending order and return the sorted list."
      ]
    },
    {
      "cell_type": "code",
      "execution_count": 30,
      "metadata": {
        "id": "rnCH6w8Ce1KP"
      },
      "outputs": [],
      "source": [
        "def sort_tuples_by_second_element(tuples_list):\n",
        "  return sorted(tuples_list, key= lambda x: x[1])"
      ]
    },
    {
      "cell_type": "code",
      "execution_count": 31,
      "metadata": {
        "id": "shrLzF-re_Hj"
      },
      "outputs": [
        {
          "name": "stdout",
          "output_type": "stream",
          "text": [
            "[('banana', 2), ('apple', 4), ('cherry', 5)]\n"
          ]
        }
      ],
      "source": [
        "tuples_list = [(\"apple\", 4), (\"banana\", 2), (\"cherry\", 5)]\n",
        "sorted_list = sort_tuples_by_second_element(tuples_list)\n",
        "print(sorted_list)  # Output: [('banana', 2), ('apple', 4), ('cherry', 5)]"
      ]
    },
    {
      "cell_type": "markdown",
      "metadata": {
        "id": "MGGvwbovfZy-"
      },
      "source": [
        "2. **Tuple Unpacking and Aggregation**\n",
        "\n",
        "   Write a function named `aggregate_tuples` that takes a list of tuples as input. Each tuple contains a string and an integer. The function should return a dictionary where the keys are the strings from the tuples, and the values are the sum of the corresponding integers."
      ]
    },
    {
      "cell_type": "code",
      "execution_count": 32,
      "metadata": {
        "id": "fiirSPKVfePi"
      },
      "outputs": [],
      "source": [
        "from typing import List, Tuple, Dict\n",
        "\n",
        "def aggregate_tuples(tuples_list):\n",
        "  aggregated_dict = {}\n",
        "  for tpl in tuples_list:\n",
        "    if tpl[0] not in aggregated_dict:\n",
        "      aggregated_dict[tpl[0]] = tpl[1]\n",
        "    else:\n",
        "      aggregated_dict[tpl[0]] += tpl[1]\n",
        "\n",
        "  return aggregated_dict"
      ]
    },
    {
      "cell_type": "code",
      "execution_count": 33,
      "metadata": {
        "id": "clrRFgQ9fhmr"
      },
      "outputs": [
        {
          "name": "stdout",
          "output_type": "stream",
          "text": [
            "{'apple': 4, 'banana': 5}\n"
          ]
        }
      ],
      "source": [
        "tuples_list = [(\"apple\", 3), (\"banana\", 2), (\"apple\", 1), (\"banana\", 3)]\n",
        "aggregated_dict = aggregate_tuples(tuples_list)\n",
        "print(aggregated_dict)  # Output: {'apple': 4, 'banana': 5}"
      ]
    },
    {
      "cell_type": "markdown",
      "metadata": {
        "id": "HYGQSTUthT3_"
      },
      "source": [
        "## **Question 4: Object-oriented Programming**"
      ]
    },
    {
      "cell_type": "markdown",
      "metadata": {
        "id": "KSnD6x9Qhemg"
      },
      "source": [
        "This exercise aims to help you understand and practice object-oriented programming (OOP) in Python by creating a simple library management system. You will work with classes, objects, and methods to model a library’s operations.\n",
        "\n",
        "#### Instructions:\n",
        "\n",
        "1. **Define Classes**\n",
        "   - **`Book` Class:** Create a class to represent a book with attributes such as title, author, ISBN, and a status indicating whether the book is checked out. Implement methods to check out, return, and display book details.\n",
        "   - **`Member` Class:** Create a class to represent a library member with attributes like member ID, name, and a list of checked-out books. Implement methods for checking out and returning books and displaying member details.\n",
        "   - **`Library` Class:** Create a class to manage the collection of books and members. Implement methods to add books and members, find books and members by their identifiers, and display library details.\n",
        "\n",
        "2. **Implement Methods**\n",
        "   - Fill in the missing parts of the methods in each class. Ensure that each method performs the required operations, such as updating the book's status when checked out or returned, and managing the member's list of checked-out books.\n",
        "\n",
        "3. **Test Your Implementation**\n",
        "   - Create instances of `Book`, `Member`, and `Library`. Perform actions such as adding books and members to the library, having members check out and return books, and displaying the current status of books and members."
      ]
    },
    {
      "cell_type": "code",
      "execution_count": 36,
      "metadata": {
        "id": "PTSxO_hJiwZK"
      },
      "outputs": [],
      "source": [
        "class Book:\n",
        "    def __init__(self, title, author, isbn):\n",
        "        self.title = title\n",
        "        self.author = author\n",
        "        self.isbn = isbn\n",
        "        self.is_checked_out = False\n",
        "\n",
        "    def check_out(self):\n",
        "        # Complete this method to set the book status to checked out\n",
        "        self.is_checked_out = True\n",
        "\n",
        "    def return_book(self):\n",
        "        # Complete this method to set the book status to returned\n",
        "        self.is_checked_out = False\n",
        "\n",
        "    def __str__(self):\n",
        "        # Complete this method to return a string representation of the book details\n",
        "        return f'title : {self.title}, author : {self.author}, isbn : {self.isbn}'\n"
      ]
    },
    {
      "cell_type": "code",
      "execution_count": 35,
      "metadata": {
        "id": "lznuVZY1ixAS"
      },
      "outputs": [],
      "source": [
        "class Member:\n",
        "    def __init__(self, member_id, name):\n",
        "        self.member_id = member_id\n",
        "        self.name = name\n",
        "        self.checked_out_books = []\n",
        "\n",
        "    def check_out_book(self, book):\n",
        "        # Complete this method to check out a book and add it to the member's list\n",
        "        book.check_out()\n",
        "        self.checked_out_books.append(book)\n",
        "\n",
        "    def return_book(self, book):\n",
        "        # Complete this method to return a book and remove it from the member's list\n",
        "        book.return_book()\n",
        "        self.checked_out_books.remove(book)\n",
        "\n",
        "    def __str__(self):\n",
        "        # Complete this method to return a string representation of the member details\n",
        "        return f'name : {self.name}, member_id : {self.member_id}'\n"
      ]
    },
    {
      "cell_type": "code",
      "execution_count": 34,
      "metadata": {
        "id": "8qZqkg6pi081"
      },
      "outputs": [],
      "source": [
        "class Library:\n",
        "    def __init__(self):\n",
        "        self.books = []\n",
        "        self.members = []\n",
        "\n",
        "    def add_book(self, book):\n",
        "        # Complete this method to add a book to the library's collection\n",
        "        self.books.append(book)\n",
        "\n",
        "    def add_member(self, member):\n",
        "        # Complete this method to add a member to the library\n",
        "        self.members.append(member)\n",
        "\n",
        "    def find_book(self, isbn):\n",
        "        # Complete this method to find a book by its ISBN\n",
        "        for book in self.books:\n",
        "            if book.isbn == isbn:\n",
        "                return book\n",
        "        return False\n",
        "\n",
        "    def find_member(self, member_id):\n",
        "        # Complete this method to find a member by their ID\n",
        "        for member in self.members:\n",
        "            if member.member_id == member_id:\n",
        "                return member\n",
        "        return False\n",
        "\n",
        "    def __str__(self):\n",
        "        # Complete this method to return a string representation of the library details\n",
        "        return f'books : {self.books}, members : {self.members}'\n"
      ]
    },
    {
      "cell_type": "markdown",
      "metadata": {
        "id": "zBA7-jvijGk9"
      },
      "source": [
        "**Test:**"
      ]
    },
    {
      "cell_type": "code",
      "execution_count": 37,
      "metadata": {
        "id": "gMpk-7sIjFrr"
      },
      "outputs": [
        {
          "name": "stdout",
          "output_type": "stream",
          "text": [
            "Initial Library Status:\n",
            "books : [<__main__.Book object at 0x000002302F9B6320>, <__main__.Book object at 0x000002302F9B4CD0>], members : [<__main__.Member object at 0x000002302F9B75E0>, <__main__.Member object at 0x000002302F9B79A0>]\n",
            "\n",
            "Alice Smith checks out 'The Great Gatsby':\n",
            "\n",
            "Library Status after Checking Out:\n",
            "books : [<__main__.Book object at 0x000002302F9B6320>, <__main__.Book object at 0x000002302F9B4CD0>], members : [<__main__.Member object at 0x000002302F9B75E0>, <__main__.Member object at 0x000002302F9B79A0>]\n",
            "\n",
            "Alice Smith's Status:\n",
            "name : Alice Smith, member_id : 001\n",
            "\n",
            "Alice Smith returns 'The Great Gatsby':\n",
            "\n",
            "Library Status after Returning Book:\n",
            "books : [<__main__.Book object at 0x000002302F9B6320>, <__main__.Book object at 0x000002302F9B4CD0>], members : [<__main__.Member object at 0x000002302F9B75E0>, <__main__.Member object at 0x000002302F9B79A0>]\n",
            "\n",
            "Alice Smith's Status after Return:\n",
            "name : Alice Smith, member_id : 001\n",
            "\n",
            "Finding Book with ISBN 9780743273565:\n",
            "title : The Great Gatsby, author : F. Scott Fitzgerald, isbn : 9780743273565\n",
            "\n",
            "Finding Member with ID 001:\n",
            "name : Alice Smith, member_id : 001\n"
          ]
        }
      ],
      "source": [
        "# Test Bench for Library Management System\n",
        "\n",
        "# Create the Library\n",
        "library = Library()\n",
        "\n",
        "# Create Books\n",
        "book1 = Book(\"The Great Gatsby\", \"F. Scott Fitzgerald\", \"9780743273565\")\n",
        "book2 = Book(\"To Kill a Mockingbird\", \"Harper Lee\", \"9780060935467\")\n",
        "\n",
        "# Add Books to the Library\n",
        "library.add_book(book1)\n",
        "library.add_book(book2)\n",
        "\n",
        "# Create Members\n",
        "member1 = Member(\"001\", \"Alice Smith\")\n",
        "member2 = Member(\"002\", \"Bob Johnson\")\n",
        "\n",
        "# Add Members to the Library\n",
        "library.add_member(member1)\n",
        "library.add_member(member2)\n",
        "\n",
        "# Display Initial Status\n",
        "print(\"Initial Library Status:\")\n",
        "print(library)\n",
        "\n",
        "# Check Out Books\n",
        "print(\"\\nAlice Smith checks out 'The Great Gatsby':\")\n",
        "member1.check_out_book(book1)\n",
        "\n",
        "# Display Updated Status\n",
        "print(\"\\nLibrary Status after Checking Out:\")\n",
        "print(library)\n",
        "print(\"\\nAlice Smith's Status:\")\n",
        "print(member1)\n",
        "\n",
        "# Return Books\n",
        "print(\"\\nAlice Smith returns 'The Great Gatsby':\")\n",
        "member1.return_book(book1)\n",
        "\n",
        "# Display Updated Status\n",
        "print(\"\\nLibrary Status after Returning Book:\")\n",
        "print(library)\n",
        "print(\"\\nAlice Smith's Status after Return:\")\n",
        "print(member1)\n",
        "\n",
        "# Find and Display Book\n",
        "isbn_to_find = \"9780743273565\"\n",
        "print(f\"\\nFinding Book with ISBN {isbn_to_find}:\")\n",
        "found_book = library.find_book(isbn_to_find)\n",
        "print(found_book)\n",
        "\n",
        "# Find and Display Member\n",
        "member_id_to_find = \"001\"\n",
        "print(f\"\\nFinding Member with ID {member_id_to_find}:\")\n",
        "found_member = library.find_member(member_id_to_find)\n",
        "print(found_member)\n"
      ]
    }
  ],
  "metadata": {
    "colab": {
      "provenance": []
    },
    "kernelspec": {
      "display_name": "Python 3",
      "name": "python3"
    },
    "language_info": {
      "codemirror_mode": {
        "name": "ipython",
        "version": 3
      },
      "file_extension": ".py",
      "mimetype": "text/x-python",
      "name": "python",
      "nbconvert_exporter": "python",
      "pygments_lexer": "ipython3",
      "version": "3.10.6"
    }
  },
  "nbformat": 4,
  "nbformat_minor": 0
}
